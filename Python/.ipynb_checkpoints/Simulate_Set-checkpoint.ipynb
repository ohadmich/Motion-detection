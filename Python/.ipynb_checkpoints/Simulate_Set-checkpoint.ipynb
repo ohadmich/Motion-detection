{
 "cells": [
  {
   "cell_type": "code",
   "execution_count": 1,
   "metadata": {
    "collapsed": true,
    "deletable": true,
    "editable": true
   },
   "outputs": [],
   "source": [
    "%matplotlib notebook"
   ]
  },
  {
   "cell_type": "code",
   "execution_count": 2,
   "metadata": {
    "collapsed": true,
    "deletable": true,
    "editable": true
   },
   "outputs": [],
   "source": [
    "import matplotlib.pyplot as plt\n",
    "import numpy as np\n",
    "import scipy.optimize as sp\n",
    "from IPython.display import Image\n",
    "import time\n",
    "import pickle\n",
    "import os"
   ]
  },
  {
   "cell_type": "markdown",
   "metadata": {
    "deletable": true,
    "editable": true
   },
   "source": [
    "## Create Data set"
   ]
  },
  {
   "cell_type": "markdown",
   "metadata": {
    "deletable": true,
    "editable": true
   },
   "source": [
    "Define simulate data function:"
   ]
  },
  {
   "cell_type": "code",
   "execution_count": 3,
   "metadata": {
    "collapsed": false,
    "deletable": true,
    "editable": true
   },
   "outputs": [],
   "source": [
    "def Simulate(Dq = None,params = None):\n",
    "    \n",
    "    if Dq is None:\n",
    "        Dq = 0.6 # Pixel displacement amplitude\n",
    "    if params is None:\n",
    "        # Define parameters\n",
    "        q = [300,300] # Transient position vector\n",
    "        v = np.array([0,1]) # Pixel displacement direction vector\n",
    "        alpha = 5*10**4 # Flux of the Transient\n",
    "        N = 512 # Image size\n",
    "        Fn = 1.2 # Flux-based zero point of the new image\n",
    "        Fr = 1 # Flux-based zero point of the reference image\n",
    "        Lambda = 300 # Mean of the noise\n",
    "        sig_Pr = [10,5] # Stdv vector of the Ref PSF\n",
    "        sig_Pn = [8,4] # Stdv vector of the new PSF\n",
    "        \n",
    "    else:\n",
    "        q = params[0] # Transient position vector\n",
    "        v = params[1] # Pixel displacement direction vector\n",
    "        alpha = params[2] # Flux of the Transient\n",
    "        N = params[3] # Image size\n",
    "        Fn = params[4] # Flux-based zero point of the new image\n",
    "        Fr = params[5] # Flux-based zero point of the reference image\n",
    "        Lambda = params[6] # Mean of the noise\n",
    "        sig_Pr = params[7] # Stdv vector of the Ref PSF\n",
    "        sig_Pn = params[8] # Stdv vector of the new PSF\n",
    "    \n",
    "    # Calculate from pramas\n",
    "    sigma_n = np.sqrt(Lambda) # Stdv of the noise\n",
    "    Dq_vec = v*Dq/np.linalg.norm(v) # Pixel displacement vector\n",
    "    \n",
    "    # Noise matrices\n",
    "    eps_r = np.random.poisson(Lambda,(N,N)) - Lambda # zero mean Ref noise\n",
    "    eps_n = np.random.poisson(Lambda,(N,N)) - Lambda # zero mean new noise\n",
    "\n",
    "    # Create a x-y grid\n",
    "    x = np.linspace(-N/2,N/2-1,N)\n",
    "    xx, yy = np.meshgrid(x,x)\n",
    "    normal_pdf = lambda x,y,sig_x,sig_y: np.exp(-(x**2/2/sig_x**2 + y**2/2/sig_y**2))\n",
    "\n",
    "    # Create a kx-ky grid\n",
    "    dx = x[1]-x[0]\n",
    "    k = np.linspace(-np.pi/dx,np.pi/dx-2*np.pi/N,N)\n",
    "    #k = np.linspace(-np.pi/dx,np.pi/dx-2*np.pi/N,N)/2.0/np.pi\n",
    "    dk = k[1]-k[0]\n",
    "    kx, ky = np.meshgrid(k,k)\n",
    "\n",
    "    # Create PSF\n",
    "    Pr_q = normal_pdf(xx,yy,sig_Pr[0],sig_Pr[1])\n",
    "    Pr_q = Pr_q/np.sum(Pr_q)\n",
    "\n",
    "    Pn_q = normal_pdf(xx,yy,sig_Pn[0],sig_Pn[1])\n",
    "    Pn_q = Pn_q/np.sum(Pn_q)\n",
    "\n",
    "    # Create transient source image\n",
    "    delta = np.zeros_like(Pr_q)\n",
    "    delta[q[0],q[1]] = 1\n",
    "\n",
    "    # Create Ref image\n",
    "    R_k = alpha*Fr*np.fft.fftshift(np.fft.fft2(delta))*np.fft.fftshift(np.fft.fft2(Pr_q))\n",
    "    R_q = np.real(np.fft.ifftshift(np.fft.ifft2(np.fft.ifftshift(R_k)))) + eps_r\n",
    "\n",
    "    # Create new image\n",
    "    N_k = alpha*Fn*np.fft.fftshift(np.fft.fft2(delta))*np.fft.fftshift(np.fft.fft2(Pn_q))*np.exp(-1j*(kx*Dq_vec[0] + ky*Dq_vec[1]))\n",
    "    N_q = np.real(np.fft.ifftshift(np.fft.ifft2(np.fft.ifftshift(N_k)))) + eps_n\n",
    "\n",
    "    return N_q,R_q,Pn_q,Pr_q,q,sigma_n,N"
   ]
  },
  {
   "cell_type": "markdown",
   "metadata": {
    "deletable": true,
    "editable": true
   },
   "source": [
    "Create Data Set and save: "
   ]
  },
  {
   "cell_type": "code",
   "execution_count": 4,
   "metadata": {
    "collapsed": false,
    "deletable": true,
    "editable": true
   },
   "outputs": [],
   "source": [
    "Dirname = 'Simulated Data\\Movment of +0.4 in y set'\n",
    "if not os.path.exists(Dirname):\n",
    "    os.makedirs(Dirname)\n",
    "    \n",
    "for i in range(1,101):\n",
    "    N_q,R_q,Pn_q,Pr_q,q,sigma_n,N = Simulate(0.4)\n",
    "    N_q0 = Simulate(0)[0]\n",
    "    with open(Dirname + '\\\\' + str(i) + '.pickle', 'w') as f:\n",
    "        pickle.dump([N_q,R_q,Pn_q,Pr_q,q,sigma_n,N_q0,N], f)"
   ]
  }
 ],
 "metadata": {
  "kernelspec": {
   "display_name": "Python 2",
   "language": "python",
   "name": "python2"
  },
  "language_info": {
   "codemirror_mode": {
    "name": "ipython",
    "version": 2
   },
   "file_extension": ".py",
   "mimetype": "text/x-python",
   "name": "python",
   "nbconvert_exporter": "python",
   "pygments_lexer": "ipython2",
   "version": "2.7.13"
  }
 },
 "nbformat": 4,
 "nbformat_minor": 2
}
